{
 "cells": [
  {
   "cell_type": "code",
   "execution_count": 10,
   "metadata": {},
   "outputs": [],
   "source": [
    "# import library\n",
    "from bs4 import BeautifulSoup\n",
    "import requests"
   ]
  },
  {
   "cell_type": "code",
   "execution_count": 11,
   "metadata": {},
   "outputs": [],
   "source": [
    "# url target\n",
    "url = 'https://boston.craigslist.org/search/npo'"
   ]
  },
  {
   "cell_type": "code",
   "execution_count": 14,
   "metadata": {},
   "outputs": [
    {
     "ename": "AttributeError",
     "evalue": "'NoneType' object has no attribute 'get'",
     "output_type": "error",
     "traceback": [
      "\u001b[0;31m---------------------------------------------------------------------------\u001b[0m",
      "\u001b[0;31mAttributeError\u001b[0m                            Traceback (most recent call last)",
      "\u001b[0;32m<ipython-input-14-5dda788a3d01>\u001b[0m in \u001b[0;36m<module>\u001b[0;34m\u001b[0m\n\u001b[1;32m     30\u001b[0m \u001b[0;34m\u001b[0m\u001b[0m\n\u001b[1;32m     31\u001b[0m     \u001b[0murl_tag\u001b[0m \u001b[0;34m=\u001b[0m \u001b[0msoup\u001b[0m\u001b[0;34m.\u001b[0m\u001b[0mfind\u001b[0m\u001b[0;34m(\u001b[0m\u001b[0;34m'a'\u001b[0m\u001b[0;34m,\u001b[0m\u001b[0;34m{\u001b[0m\u001b[0;34m'title'\u001b[0m\u001b[0;34m,\u001b[0m\u001b[0;34m'next page'\u001b[0m\u001b[0;34m}\u001b[0m\u001b[0;34m)\u001b[0m\u001b[0;34m\u001b[0m\u001b[0;34m\u001b[0m\u001b[0m\n\u001b[0;32m---> 32\u001b[0;31m     \u001b[0;32mif\u001b[0m \u001b[0murl_tag\u001b[0m\u001b[0;34m.\u001b[0m\u001b[0mget\u001b[0m\u001b[0;34m(\u001b[0m\u001b[0;34m'href'\u001b[0m\u001b[0;34m)\u001b[0m\u001b[0;34m:\u001b[0m\u001b[0;34m\u001b[0m\u001b[0;34m\u001b[0m\u001b[0m\n\u001b[0m\u001b[1;32m     33\u001b[0m         \u001b[0murl\u001b[0m \u001b[0;34m=\u001b[0m \u001b[0;34m'https://boston.craigslist.org'\u001b[0m\u001b[0;34m+\u001b[0m\u001b[0murl_tag\u001b[0m\u001b[0;34m.\u001b[0m\u001b[0mget\u001b[0m\u001b[0;34m(\u001b[0m\u001b[0;34m'href'\u001b[0m\u001b[0;34m)\u001b[0m\u001b[0;34m\u001b[0m\u001b[0;34m\u001b[0m\u001b[0m\n\u001b[1;32m     34\u001b[0m         \u001b[0mprint\u001b[0m\u001b[0;34m(\u001b[0m\u001b[0;34m'Next Page URL = '\u001b[0m\u001b[0;34m,\u001b[0m\u001b[0murl\u001b[0m\u001b[0;34m)\u001b[0m\u001b[0;34m\u001b[0m\u001b[0;34m\u001b[0m\u001b[0m\n",
      "\u001b[0;31mAttributeError\u001b[0m: 'NoneType' object has no attribute 'get'"
     ]
    }
   ],
   "source": [
    "# loop per page\n",
    "job_no = 0\n",
    "while True:\n",
    "    response = requests.get(url)\n",
    "    data = response.text\n",
    "    soup = BeautifulSoup(data,'html.parser')\n",
    "    jobs = soup.find_all('p',{'class':'result-info'})\n",
    "    \n",
    "    # loop jobs element\n",
    "    for job in jobs:\n",
    "        print('Job Item = ',job)\n",
    "        title = job.find('a',{'class':'result-titile'}).text\n",
    "        location_tag = job.find('span',{'class':'result-hood'})\n",
    "        location = location_tag.text[2:1] if location_tag else \"N/A\"\n",
    "        date = job.find('time',{'class':'result-date'}).text\n",
    "        link = job.find('a',{'class':'result-title'}).get('href')\n",
    "\n",
    "        job_response = requests.get(link)\n",
    "        job_data = job_response.text\n",
    "        job_soup = BeautifuSoup(job_data,'html.parser')\n",
    "        job_description = job_soup.find('section',{'id':'postingbody'}).text\n",
    "        job_attributes_tag = job_soup.find('p',{'class':'attrgroup'})\n",
    "        job_attributes = job_attributes_tag.text if job_attributes_tag else \"N/A\"\n",
    "        \n",
    "        # counter job number of page\n",
    "        job_no+=1\n",
    "        \n",
    "\n",
    "        print('Job Title : ',title,'\\nLocation : ',location,'\\nDate : ',date,'\\nLink : ',link,'\\n',job_attributes,'\\nJob Description : ',job_description,'\\n---')\n",
    "    \n",
    "    url_tag = soup.find('a',{'title','next page'})\n",
    "    if url_tag.get('href'):\n",
    "        url = 'https://boston.craigslist.org'+url_tag.get('href')\n",
    "        print('Next Page URL = ',url)\n",
    "    else:\n",
    "        break\n",
    "\n",
    "print('Job total = ',job_no)\n",
    "        "
   ]
  },
  {
   "cell_type": "code",
   "execution_count": null,
   "metadata": {},
   "outputs": [],
   "source": []
  }
 ],
 "metadata": {
  "kernelspec": {
   "display_name": "Python 3",
   "language": "python",
   "name": "python3"
  },
  "language_info": {
   "codemirror_mode": {
    "name": "ipython",
    "version": 3
   },
   "file_extension": ".py",
   "mimetype": "text/x-python",
   "name": "python",
   "nbconvert_exporter": "python",
   "pygments_lexer": "ipython3",
   "version": "3.7.6"
  }
 },
 "nbformat": 4,
 "nbformat_minor": 4
}
